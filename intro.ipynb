{
 "cells": [
  {
   "cell_type": "markdown",
   "metadata": {
    "pyFoam": {
     "classes": [
      "heading"
     ]
    }
   },
   "source": [
    "# Introduction to Basic Reservoir Engineering simulations with OpenFOAM\n",
    "\n",
    "## Convection-Diffustion Case\n",
    "\n",
    "### 1. Imports and initial configuration"
   ]
  },
  {
   "cell_type": "markdown",
   "metadata": {
    "pyFoam": {
     "classes": [
      "comment"
     ]
    }
   },
   "source": [
    "We make sure plots are \"inlined\", import an improved `DataFrame` class and prepare the case directory for processing"
   ]
  },
  {
   "cell_type": "code",
   "execution_count": 1,
   "metadata": {},
   "outputs": [
    {
     "data": {
      "application/javascript": [
       "\n",
       "    function handle_output(out){\n",
       "        console.log(out);\n",
       "        var res = null;\n",
       "         // if output is a print statement\n",
       "        if(out.msg_type == \"stream\"){\n",
       "            res = out.content.data;\n",
       "        }\n",
       "        // if output is a python object\n",
       "        else if(out.msg_type === \"pyout\"){\n",
       "            res = out.content.data[\"text/plain\"];\n",
       "        }\n",
       "        // if output is a python error\n",
       "        else if(out.msg_type == \"pyerr\"){\n",
       "            res = out.content.ename + \": \" + out.content.evalue;\n",
       "        }\n",
       "        // if output is something we haven't thought of\n",
       "        else{\n",
       "            res = \"[out type not implemented]\";\n",
       "        }\n",
       "        console.log(res);\n",
       "    }\n",
       "    var callbacks =  {'iopub' : {'output' : handle_output}};\n",
       "    \n",
       "function ensurePyFoamStorage() {\n",
       "  if (typeof IPython ==\"undefined\") {\n",
       "      alert(\"Trying to use PyFoam.IPythonHelpers.PermanentStorage outside of IPython\");\n",
       "      return;\n",
       "  } else if(IPython.notebook==undefined) {\n",
       "      alert(\"Trying to use PyFoam.IPythonHelpers.PermanentStorage outside of an IPython-notebook\");\n",
       "      return;\n",
       "  } else if(IPython.notebook.metadata.pyFoam==undefined) {\n",
       "      IPython.notebook.metadata.pyFoam=Object();\n",
       "      console.log(\"IPython.notebook.metadata.pyFoam created\");\n",
       "  } else {\n",
       "      console.log(\"IPython.notebook.metadata.pyFoam found\");\n",
       "  }\n",
       "  if(IPython.notebook.metadata.pyFoam.storedData==undefined) {\n",
       "      IPython.notebook.metadata.pyFoam.storedData=Object();\n",
       "      console.log(\"IPython.notebook.metadata.pyFoam.storedData created\");\n",
       "  } else {\n",
       "      console.log(\"IPython.notebook.metadata.pyFoam.storedData found\");\n",
       "  }\n",
       "\n",
       "  var store=IPython.notebook.metadata.pyFoam.storedData;\n",
       "  var expr=\"from PyFoam.IPythonHelpers.PermanentStorage import PermanentStorage as perm\\nperm._data={}\";\n",
       "  status=\"Starting transfer\";\n",
       "  var kernel=IPython.notebook.kernel;\n",
       "  kernel.execute(expr, callbacks, {silent:false});\n",
       "  for(var k in store) {\n",
       "      var totalLen=store[k].length;\n",
       "      console.log(\"Found stored \"+k+\" Length: \"+totalLen);\n",
       "//      expr+=\"'\"+k+\"' : '\"+store[k]+\"' ,\";\n",
       "      var chunk=400; // seems to be the best compromise\n",
       "      var nChunks=(totalLen/chunk|0)+1;\n",
       "      for(var i=0;i<nChunks;i++) {\n",
       "          status=\"chunk \"+(i+1)+\" of \"+nChunks+\" of \"+k;\n",
       "          var value = store[k].substring(i*chunk,(i+1)*chunk);\n",
       "          var command =\"perm._data['\"+k+\"']\";\n",
       "          if(i>0) {\n",
       "            command+=\"+=\";\n",
       "          } else {\n",
       "            command+=\"=\";\n",
       "          }\n",
       "          command += \"'\"+value+\"'\";\n",
       "          kernel.execute(command);\n",
       "      }\n",
       "  }\n",
       "  status=\"Starting transfer (this can take some time)\";\n",
       "  console.log(\"Execution of python done\");\n",
       "}\n",
       "ensurePyFoamStorage();\n",
       "                       "
      ],
      "text/plain": [
       "<IPython.core.display.Javascript object>"
      ]
     },
     "metadata": {},
     "output_type": "display_data"
    },
    {
     "data": {
      "application/javascript": [
       "status=\"Storage status: Autowrite: False Autoread: True\""
      ],
      "text/plain": [
       "<IPython.core.display.Javascript object>"
      ]
     },
     "metadata": {},
     "output_type": "display_data"
    }
   ],
   "source": [
    "%matplotlib inline\n",
    "from matplotlib import pyplot as plt\n",
    "from PyFoam.Wrappers.Pandas import PyFoamDataFrame as DataFrame\n",
    "from PyFoam.IPythonHelpers import storage\n",
    "store=storage()"
   ]
  },
  {
   "cell_type": "markdown",
   "metadata": {},
   "source": [
    "Then, we import the `Case` class and instantiate our case object"
   ]
  },
  {
   "cell_type": "code",
   "execution_count": 2,
   "metadata": {
    "scrolled": true
   },
   "outputs": [
    {
     "name": "stderr",
     "output_type": "stream",
     "text": [
      "/usr/lib/python2.7/site-packages/IPython/html.py:14: ShimWarning: The `IPython.html` package has been deprecated since IPython 4.0. You should import from `notebook` instead. `IPython.html.widgets` has moved to `ipywidgets`.\n",
      "  \"`IPython.html.widgets` has moved to `ipywidgets`.\", ShimWarning)\n"
     ]
    }
   ],
   "source": [
    "from PyFoam.IPythonHelpers.Case import Case\n",
    "# Pass the absolute path to the case to Case class\n",
    "case=Case('/home/linux1/foam/linux1-4.0/run/intro')"
   ]
  },
  {
   "cell_type": "markdown",
   "metadata": {},
   "source": [
    "### 2. Investigating the case\n",
    "\n",
    "Retrieve some mesh statistics (Use `case.<TAB>` to learn more) as HTML objects"
   ]
  },
  {
   "cell_type": "code",
   "execution_count": 3,
   "metadata": {
    "pyFoam": {
     "classes": [
      "report"
     ]
    }
   },
   "outputs": [
    {
     "data": {
      "text/html": [
       "<div class=\"document\">\n",
       "<div class=\"section\" id=\"size-of-the-case\">\n",
       "<h3>Size of the case</h3>\n",
       "<table border=\"1\" class=\"docutils\">\n",
       "<colgroup>\n",
       "<col width=\"75%\" />\n",
       "<col width=\"25%\" />\n",
       "</colgroup>\n",
       "<tbody valign=\"top\">\n",
       "<tr><td>Faces</td>\n",
       "<td>46</td>\n",
       "</tr>\n",
       "<tr><td>Points</td>\n",
       "<td>40</td>\n",
       "</tr>\n",
       "<tr><td>Cells</td>\n",
       "<td>9</td>\n",
       "</tr>\n",
       "</tbody>\n",
       "</table>\n",
       "</div>\n",
       "</div>\n"
      ],
      "text/plain": [
       "<IPython.core.display.HTML object>"
      ]
     },
     "execution_count": 3,
     "metadata": {},
     "output_type": "execute_result"
    }
   ],
   "source": [
    "# First, make sure the mesh is there\n",
    "!blockMesh > /dev/null\n",
    "case.size()"
   ]
  },
  {
   "cell_type": "code",
   "execution_count": 4,
   "metadata": {
    "pyFoam": {
     "classes": [
      "report"
     ]
    },
    "scrolled": true
   },
   "outputs": [
    {
     "data": {
      "text/html": [
       "<div class=\"document\">\n",
       "<div class=\"section\" id=\"table-of-boundary-conditions-for-t-0\">\n",
       "<h3>Table of boundary conditions for t = 0</h3>\n",
       "<table border=\"1\" class=\"docutils\">\n",
       "<colgroup>\n",
       "<col width=\"28%\" />\n",
       "<col width=\"28%\" />\n",
       "<col width=\"17%\" />\n",
       "<col width=\"28%\" />\n",
       "</colgroup>\n",
       "<thead valign=\"bottom\">\n",
       "<tr><th class=\"head\"><!--  -->\n",
       "</th>\n",
       "<th class=\"head\">inlet</th>\n",
       "<th class=\"head\">noFlow</th>\n",
       "<th class=\"head\">outlet</th>\n",
       "</tr>\n",
       "<tr><th class=\"head\">Patch Type</th>\n",
       "<th class=\"head\">patch</th>\n",
       "<th class=\"head\">empty</th>\n",
       "<th class=\"head\">patch</th>\n",
       "</tr>\n",
       "<tr><th class=\"head\">Length</th>\n",
       "<th class=\"head\">1</th>\n",
       "<th class=\"head\">36</th>\n",
       "<th class=\"head\">1</th>\n",
       "</tr>\n",
       "</thead>\n",
       "<tbody valign=\"top\">\n",
       "<tr><td>T</td>\n",
       "<td>fixedValue</td>\n",
       "<td>empty</td>\n",
       "<td>fixedValue</td>\n",
       "</tr>\n",
       "<tr><td>U</td>\n",
       "<td>fixedValue</td>\n",
       "<td>empty</td>\n",
       "<td>fixedValue</td>\n",
       "</tr>\n",
       "</tbody>\n",
       "</table>\n",
       "</div>\n",
       "</div>\n"
      ],
      "text/plain": [
       "<IPython.core.display.HTML object>"
      ]
     },
     "execution_count": 4,
     "metadata": {},
     "output_type": "execute_result"
    }
   ],
   "source": [
    "case.boundaryConditions()"
   ]
  },
  {
   "cell_type": "markdown",
   "metadata": {},
   "source": [
    "You can even verify fields' dimensions here "
   ]
  },
  {
   "cell_type": "code",
   "execution_count": 5,
   "metadata": {
    "pyFoam": {
     "classes": [
      "report"
     ]
    },
    "scrolled": true
   },
   "outputs": [
    {
     "data": {
      "text/html": [
       "<div class=\"document\">\n",
       "<div class=\"section\" id=\"dimensions-of-fields-for-t-0\">\n",
       "<h3>Dimensions of fields for t = 0</h3>\n",
       "<table border=\"1\" class=\"docutils\">\n",
       "<colgroup>\n",
       "<col width=\"25%\" />\n",
       "<col width=\"13%\" />\n",
       "<col width=\"6%\" />\n",
       "<col width=\"13%\" />\n",
       "<col width=\"6%\" />\n",
       "<col width=\"19%\" />\n",
       "<col width=\"6%\" />\n",
       "<col width=\"13%\" />\n",
       "</colgroup>\n",
       "<thead valign=\"bottom\">\n",
       "<tr><th class=\"head\">Name</th>\n",
       "<th class=\"head\">kg</th>\n",
       "<th class=\"head\">m</th>\n",
       "<th class=\"head\">s</th>\n",
       "<th class=\"head\">K</th>\n",
       "<th class=\"head\">mol</th>\n",
       "<th class=\"head\">A</th>\n",
       "<th class=\"head\">cd</th>\n",
       "</tr>\n",
       "</thead>\n",
       "<tbody valign=\"top\">\n",
       "<tr><td>T</td>\n",
       "<td>0</td>\n",
       "<td>0</td>\n",
       "<td>0</td>\n",
       "<td>1</td>\n",
       "<td>0</td>\n",
       "<td>0</td>\n",
       "<td>0</td>\n",
       "</tr>\n",
       "<tr><td>U</td>\n",
       "<td>0</td>\n",
       "<td>1</td>\n",
       "<td>-1</td>\n",
       "<td>0</td>\n",
       "<td>0</td>\n",
       "<td>0</td>\n",
       "<td>0</td>\n",
       "</tr>\n",
       "</tbody>\n",
       "</table>\n",
       "</div>\n",
       "</div>\n"
      ],
      "text/plain": [
       "<IPython.core.display.HTML object>"
      ]
     },
     "execution_count": 5,
     "metadata": {},
     "output_type": "execute_result"
    }
   ],
   "source": [
    "case.dimensions()"
   ]
  },
  {
   "cell_type": "markdown",
   "metadata": {},
   "source": [
    "and also the variables values at cell centers"
   ]
  },
  {
   "cell_type": "code",
   "execution_count": 6,
   "metadata": {
    "pyFoam": {
     "classes": [
      "report"
     ]
    },
    "scrolled": true
   },
   "outputs": [
    {
     "data": {
      "text/html": [
       "<div class=\"document\">\n",
       "<div class=\"section\" id=\"internal-value-of-fields-for-t-0\">\n",
       "<h3>Internal value of fields for t = 0</h3>\n",
       "<table border=\"1\" class=\"docutils\">\n",
       "<colgroup>\n",
       "<col width=\"18%\" />\n",
       "<col width=\"82%\" />\n",
       "</colgroup>\n",
       "<thead valign=\"bottom\">\n",
       "<tr><th class=\"head\">Name</th>\n",
       "<th class=\"head\">Value</th>\n",
       "</tr>\n",
       "</thead>\n",
       "<tbody valign=\"top\">\n",
       "<tr><td>T</td>\n",
       "<td>uniform 0</td>\n",
       "</tr>\n",
       "<tr><td>U</td>\n",
       "<td>uniform (0.03 0 0)</td>\n",
       "</tr>\n",
       "</tbody>\n",
       "</table>\n",
       "</div>\n",
       "</div>\n"
      ],
      "text/plain": [
       "<IPython.core.display.HTML object>"
      ]
     },
     "execution_count": 6,
     "metadata": {},
     "output_type": "execute_result"
    }
   ],
   "source": [
    "case.internalField()"
   ]
  },
  {
   "cell_type": "markdown",
   "metadata": {},
   "source": [
    "Finally, the numerical solver's settings"
   ]
  },
  {
   "cell_type": "code",
   "execution_count": 7,
   "metadata": {},
   "outputs": [
    {
     "data": {
      "text/html": [
       "<div class=\"document\">\n",
       "<div class=\"section\" id=\"linear-solvers\">\n",
       "<h3>Linear Solvers</h3>\n",
       "<table border=\"1\" class=\"docutils\">\n",
       "<colgroup>\n",
       "<col width=\"9%\" />\n",
       "<col width=\"28%\" />\n",
       "<col width=\"33%\" />\n",
       "<col width=\"30%\" />\n",
       "</colgroup>\n",
       "<thead valign=\"bottom\">\n",
       "<tr><th class=\"head\">Name</th>\n",
       "<th class=\"head\">Solver</th>\n",
       "<th class=\"head\">Abs. Tolerance</th>\n",
       "<th class=\"head\">Relative Tol.</th>\n",
       "</tr>\n",
       "</thead>\n",
       "<tbody valign=\"top\">\n",
       "<tr><td>T</td>\n",
       "<td>smoothSolver</td>\n",
       "<td>0.001</td>\n",
       "<td>0</td>\n",
       "</tr>\n",
       "</tbody>\n",
       "</table>\n",
       "</div>\n",
       "</div>\n"
      ],
      "text/plain": [
       "<IPython.core.display.HTML object>"
      ]
     },
     "execution_count": 7,
     "metadata": {},
     "output_type": "execute_result"
    }
   ],
   "source": [
    "case.linearSolvers()"
   ]
  },
  {
   "cell_type": "markdown",
   "metadata": {},
   "source": [
    "### Preparing and running the case"
   ]
  },
  {
   "cell_type": "code",
   "execution_count": 8,
   "metadata": {
    "scrolled": true
   },
   "outputs": [
    {
     "name": "stdout",
     "output_type": "stream",
     "text": [
      "Clearing out old timesteps ....\n",
      " t =          2"
     ]
    },
    {
     "name": "stderr",
     "output_type": "stream",
     "text": [
      "\u001b[4m PyFoam WARNING on line 142 of file /home/linux1/foam/foam-extend-4.0/ThirdParty/packages/PyFoam-0.6.4/platforms/noarch/lib/python2.7/site-packages/PyFoam/LogAnalysis/GeneralLineAnalyzer.py : Problem doing timelines could not convert string to float:  \u001b[m\n"
     ]
    }
   ],
   "source": [
    "# Use PyFoam as a library to launch simulations\n",
    "from PyFoam.Applications.Runner import Runner\n",
    "\n",
    "# On commandline, you can run:\n",
    "#! pyFoamRunner.py --clear --progress scalarTransportFoam -case .\n",
    "\n",
    "## You should notice that\n",
    "# PyFoam application options start with --\n",
    "# OpenFOAM solver options start with a single -\n",
    "\n",
    "# Clear the case, show only the progress, plot all plots\n",
    "# Choose scalarTransportFoam, and provide case absolute path as its option\n",
    "rn = Runner(args=[\"--clear\",\"--progress\",\"scalarTransportFoam\",\"-case\",case.path])\n"
   ]
  },
  {
   "cell_type": "markdown",
   "metadata": {},
   "source": [
    "### Investigating the run"
   ]
  },
  {
   "cell_type": "code",
   "execution_count": 9,
   "metadata": {},
   "outputs": [],
   "source": [
    "# Get simulation Data as a Python dictionary\n",
    "data = rn.getData()"
   ]
  },
  {
   "cell_type": "code",
   "execution_count": 10,
   "metadata": {},
   "outputs": [
    {
     "data": {
      "text/plain": [
       "['stepNr',\n",
       " 'casefullname',\n",
       " 'cpuTime',\n",
       " 'fatalStackdump',\n",
       " 'fatalFPE',\n",
       " 'logfile',\n",
       " 'commandLine',\n",
       " 'hostname',\n",
       " 'solverFull',\n",
       " 'lasttimesteptime',\n",
       " 'cpuUserTime',\n",
       " 'cpuSystemTime',\n",
       " 'analyzed',\n",
       " 'endtime',\n",
       " 'remark',\n",
       " 'OK',\n",
       " 'casename',\n",
       " 'solver',\n",
       " 'lines',\n",
       " 'interrupted',\n",
       " 'fatalError',\n",
       " 'usedMemory',\n",
       " 'starttime',\n",
       " 'time',\n",
       " 'wallTime']"
      ]
     },
     "execution_count": 10,
     "metadata": {},
     "output_type": "execute_result"
    }
   ],
   "source": [
    "# Discover what info is stored\n",
    "data.keys()"
   ]
  },
  {
   "cell_type": "code",
   "execution_count": 11,
   "metadata": {
    "scrolled": true
   },
   "outputs": [
    {
     "data": {
      "text/plain": [
       "True"
      ]
     },
     "execution_count": 11,
     "metadata": {},
     "output_type": "execute_result"
    }
   ],
   "source": [
    "# Has the run finished OK?\n",
    "rn.OK"
   ]
  },
  {
   "cell_type": "code",
   "execution_count": 12,
   "metadata": {},
   "outputs": [
    {
     "data": {
      "text/plain": [
       "False"
      ]
     },
     "execution_count": 12,
     "metadata": {},
     "output_type": "execute_result"
    }
   ],
   "source": [
    "# If failed, is it an OpenFOAM Fatal Error?\n",
    "rn.fatalError"
   ]
  },
  {
   "cell_type": "code",
   "execution_count": 13,
   "metadata": {},
   "outputs": [
    {
     "data": {
      "text/plain": [
       "False"
      ]
     },
     "execution_count": 13,
     "metadata": {},
     "output_type": "execute_result"
    }
   ],
   "source": [
    "# Or did the run get interrupted\n",
    "rn.interrupted"
   ]
  },
  {
   "cell_type": "code",
   "execution_count": 14,
   "metadata": {},
   "outputs": [
    {
     "data": {
      "text/plain": [
       "'No remark given'"
      ]
     },
     "execution_count": 14,
     "metadata": {},
     "output_type": "execute_result"
    }
   ],
   "source": [
    "# Was there a run \"remark\" (For over-the-network simulations)\n",
    "rn.remark"
   ]
  },
  {
   "cell_type": "code",
   "execution_count": 15,
   "metadata": {
    "scrolled": false
   },
   "outputs": [
    {
     "data": {
      "text/plain": [
       "(0.0, 0.0, 0.0)"
      ]
     },
     "execution_count": 15,
     "metadata": {},
     "output_type": "execute_result"
    }
   ],
   "source": [
    "# CPU TIME \n",
    "rn.cpuSystemTime, rn.cpuUserTime, rn.cpuTime"
   ]
  },
  {
   "cell_type": "code",
   "execution_count": 16,
   "metadata": {},
   "outputs": [
    {
     "data": {
      "text/plain": [
       "'/home/linux1/foam/linux1-4.0/run/intro/2'"
      ]
     },
     "execution_count": 16,
     "metadata": {},
     "output_type": "execute_result"
    }
   ],
   "source": [
    "# Newest time directory\n",
    "case.sol.latestDir()"
   ]
  },
  {
   "cell_type": "markdown",
   "metadata": {},
   "source": [
    "### The list of T values\n",
    "\n",
    "What we *really* want to extract in this case is the `nonuniform list of T` at time = 2 (second timeStep)!"
   ]
  },
  {
   "cell_type": "code",
   "execution_count": 17,
   "metadata": {},
   "outputs": [
    {
     "data": {
      "text/html": [
       "<div class=\"document\">\n",
       "<p>Using time t=2</p>\n",
       "<div class=\"section\" id=\"internal-value-of-fields-for-t-2\">\n",
       "<h3>Internal value of fields for t = 2</h3>\n",
       "<table border=\"1\" class=\"docutils\">\n",
       "<colgroup>\n",
       "<col width=\"13%\" />\n",
       "<col width=\"88%\" />\n",
       "</colgroup>\n",
       "<thead valign=\"bottom\">\n",
       "<tr><th class=\"head\">Name</th>\n",
       "<th class=\"head\">Value</th>\n",
       "</tr>\n",
       "</thead>\n",
       "<tbody valign=\"top\">\n",
       "<tr><td>T</td>\n",
       "<td>nonuniform List&lt;scalar&gt; 9...</td>\n",
       "</tr>\n",
       "<tr><td>U</td>\n",
       "<td>uniform (0.03 0 0)</td>\n",
       "</tr>\n",
       "<tr><td>phi</td>\n",
       "<td>uniform 0.0003</td>\n",
       "</tr>\n",
       "</tbody>\n",
       "</table>\n",
       "</div>\n",
       "</div>\n"
      ],
      "text/plain": [
       "<IPython.core.display.HTML object>"
      ]
     },
     "execution_count": 17,
     "metadata": {},
     "output_type": "execute_result"
    }
   ],
   "source": [
    "case.internalField(time=2.0)\n",
    "# But this is HTML!!"
   ]
  },
  {
   "cell_type": "code",
   "execution_count": 18,
   "metadata": {},
   "outputs": [
    {
     "name": "stdout",
     "output_type": "stream",
     "text": [
      "2/T content: ['dimensions', 'internalField', 'boundaryField']\n",
      "\n",
      "T at cell center: [0.98908405, 0.95972003, 0.92028125, 0.8673079, 0.79608295, 0.70017418, 0.57081901, 0.39609872, 0.15982931]\n"
     ]
    }
   ],
   "source": [
    "# The easiest way, for this case is to directly parse 2/T file\n",
    "\n",
    "# Import parsedFile class as sf\n",
    "from PyFoam.RunDictionary.ParsedParameterFile import ParsedParameterFile as sf\n",
    "\n",
    "# The 2/T file representation\n",
    "T = sf(case.sol.latestDir()+'/T')\n",
    "\n",
    "# What content the file has?\n",
    "print(\"2/T content: %s\\n\" % T.content.keys())\n",
    "\n",
    "# Extract the list of values\n",
    "print(\"T at cell center: %s\" % T.content['internalField'].value())"
   ]
  }
 ],
 "metadata": {
  "kernelspec": {
   "display_name": "Python 2",
   "language": "python",
   "name": "python2"
  },
  "language_info": {
   "codemirror_mode": {
    "name": "ipython",
    "version": 2
   },
   "file_extension": ".py",
   "mimetype": "text/x-python",
   "name": "python",
   "nbconvert_exporter": "python",
   "pygments_lexer": "ipython2",
   "version": "2.7.5"
  },
  "pyFoam": {
   "createdBy": "pyFoam",
   "createdTime": "Thu Oct 24 12:59:51 2019",
   "description": "Created by pyFoamIPythonNotebook.py",
   "modificationTime": "Thu Oct 24 12:59:51 2019",
   "storedData": {}
  }
 },
 "nbformat": 4,
 "nbformat_minor": 1
}

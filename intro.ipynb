{
 "cells": [
  {
   "cell_type": "markdown",
   "metadata": {
    "pyFoam": {
     "classes": [
      "heading"
     ]
    }
   },
   "source": [
    "# [OpenFOAM Simulations in a nutshell](https://foam-school.github.io/docs/part1/openfoam-simulation-in-a-nutshell/) (Diffusive flow simulation)\n",
    "\n",
    "### 1. Imports and initial configuration"
   ]
  },
  {
   "cell_type": "markdown",
   "metadata": {
    "pyFoam": {
     "classes": [
      "comment"
     ]
    }
   },
   "source": [
    "We make sure plots are \"inlined\", import an improved `DataFrame` class and prepare the case directory for processing"
   ]
  },
  {
   "cell_type": "code",
   "execution_count": null,
   "metadata": {},
   "outputs": [],
   "source": [
    "# If you don't know Python, don't worry about these lines. Just run-n-skip -em\n",
    "%matplotlib inline\n",
    "from matplotlib import pyplot as plt\n",
    "from PyFoam.Wrappers.Pandas import PyFoamDataFrame as DataFrame\n",
    "from PyFoam.IPythonHelpers import storage\n",
    "store=storage()"
   ]
  },
  {
   "cell_type": "markdown",
   "metadata": {},
   "source": [
    "Then, we import the `Case` class and instantiate our case object \n",
    "(The abolute path is given _relative_ to the \"docker container\")"
   ]
  },
  {
   "cell_type": "code",
   "execution_count": null,
   "metadata": {
    "scrolled": true
   },
   "outputs": [],
   "source": [
    "from PyFoam.IPythonHelpers.Case import Case\n",
    "# Pass the absolute path to the case to Case class\n",
    "case=Case('/root/foam/root-4.0/run/intro')"
   ]
  },
  {
   "cell_type": "markdown",
   "metadata": {},
   "source": [
    "### 2. Investigating the case\n",
    "\n",
    "Retrieve some mesh statistics (Use `case.<TAB>` to learn more) as HTML objects"
   ]
  },
  {
   "cell_type": "code",
   "execution_count": null,
   "metadata": {
    "pyFoam": {
     "classes": [
      "report"
     ]
    }
   },
   "outputs": [],
   "source": [
    "# First, make sure the mesh is there\n",
    "# We run shell commands with \n",
    "!blockMesh > /dev/null\n",
    "\n",
    "# Then inspect mesh size\n",
    "case.size()"
   ]
  },
  {
   "cell_type": "code",
   "execution_count": null,
   "metadata": {
    "pyFoam": {
     "classes": [
      "report"
     ]
    },
    "scrolled": true
   },
   "outputs": [],
   "source": [
    "# Length denotes how many faces are on the boundary patch\n",
    "case.boundaryConditions()"
   ]
  },
  {
   "cell_type": "markdown",
   "metadata": {},
   "source": [
    "You can even verify fields' dimensions here "
   ]
  },
  {
   "cell_type": "code",
   "execution_count": null,
   "metadata": {
    "pyFoam": {
     "classes": [
      "report"
     ]
    },
    "scrolled": true
   },
   "outputs": [],
   "source": [
    "case.dimensions()"
   ]
  },
  {
   "cell_type": "markdown",
   "metadata": {},
   "source": [
    "and also the variables values at cell centers for time 0 (initial time)"
   ]
  },
  {
   "cell_type": "code",
   "execution_count": null,
   "metadata": {
    "pyFoam": {
     "classes": [
      "report"
     ]
    },
    "scrolled": true
   },
   "outputs": [],
   "source": [
    "case.internalField()"
   ]
  },
  {
   "cell_type": "markdown",
   "metadata": {},
   "source": [
    "Finally, the numerical solver's settings"
   ]
  },
  {
   "cell_type": "code",
   "execution_count": null,
   "metadata": {},
   "outputs": [],
   "source": [
    "case.linearSolvers()\n",
    "# Or you can type \"case.\" and press <TAB> to get a list of available methods"
   ]
  },
  {
   "cell_type": "markdown",
   "metadata": {},
   "source": [
    "### Preparing and running the case"
   ]
  },
  {
   "cell_type": "code",
   "execution_count": null,
   "metadata": {},
   "outputs": [],
   "source": [
    "## For those who don't know Python\n",
    "## You run things from here as if you work from the commandline;\n",
    "## Just add a ! before each shell command\n",
    "\n",
    "! foamCleanTutorials && blockMesh\n",
    "! scalarTransportFoam"
   ]
  },
  {
   "cell_type": "code",
   "execution_count": null,
   "metadata": {
    "scrolled": true
   },
   "outputs": [],
   "source": [
    "## For Python programmers, there is a PyFoam Package to automate \n",
    "## OpenFOAM stuff\n",
    "\n",
    "# Use PyFoam as a library to launch simulations\n",
    "from PyFoam.Applications.Runner import Runner\n",
    "\n",
    "# On commandline, you can run:\n",
    "#! pyFoamRunner.py --clear --progress scalarTransportFoam -case .\n",
    "\n",
    "# Notice that\n",
    "# PyFoam application options start with --\n",
    "# OpenFOAM solver options start with a single -\n",
    "\n",
    "# Clear the case, show only the progress,\n",
    "# Choose scalarTransportFoam, and provide case absolute path as its option\n",
    "rn = Runner(args=[\"--clear\",\"--progress\",\"scalarTransportFoam\",\"-case\",case.path])\n"
   ]
  },
  {
   "cell_type": "markdown",
   "metadata": {},
   "source": [
    "### Investigating the run"
   ]
  },
  {
   "cell_type": "code",
   "execution_count": null,
   "metadata": {},
   "outputs": [],
   "source": [
    "# Get simulation Data as a Python dictionary\n",
    "data = rn.getData()"
   ]
  },
  {
   "cell_type": "code",
   "execution_count": null,
   "metadata": {},
   "outputs": [],
   "source": [
    "# Discover what info is stored\n",
    "data.keys()"
   ]
  },
  {
   "cell_type": "code",
   "execution_count": null,
   "metadata": {
    "scrolled": true
   },
   "outputs": [],
   "source": [
    "# Has the run finished OK?\n",
    "rn.OK"
   ]
  },
  {
   "cell_type": "code",
   "execution_count": null,
   "metadata": {},
   "outputs": [],
   "source": [
    "# If failed, is it an OpenFOAM Fatal Error?\n",
    "rn.fatalError"
   ]
  },
  {
   "cell_type": "code",
   "execution_count": null,
   "metadata": {},
   "outputs": [],
   "source": [
    "# Or did the run get interrupted\n",
    "rn.interrupted"
   ]
  },
  {
   "cell_type": "code",
   "execution_count": null,
   "metadata": {},
   "outputs": [],
   "source": [
    "# Was there a run \"remark\" (For over-the-network simulations)\n",
    "rn.remark"
   ]
  },
  {
   "cell_type": "code",
   "execution_count": null,
   "metadata": {
    "scrolled": false
   },
   "outputs": [],
   "source": [
    "# CPU TIME \n",
    "rn.cpuSystemTime, rn.cpuUserTime, rn.cpuTime"
   ]
  },
  {
   "cell_type": "code",
   "execution_count": null,
   "metadata": {},
   "outputs": [],
   "source": [
    "# Newest time directory\n",
    "case.sol.latestDir()"
   ]
  },
  {
   "cell_type": "code",
   "execution_count": null,
   "metadata": {},
   "outputs": [],
   "source": [
    "data.values()"
   ]
  },
  {
   "cell_type": "markdown",
   "metadata": {},
   "source": [
    "### The list of T values\n",
    "\n",
    "What we *really* want to extract in this case is the `nonuniform list of T` at time = 40 (40th timeStep)!"
   ]
  },
  {
   "cell_type": "code",
   "execution_count": null,
   "metadata": {},
   "outputs": [],
   "source": [
    "case.internalField(time=40.0)\n",
    "# But this is HTML!! can't plot, can't do a thing with the data"
   ]
  },
  {
   "cell_type": "code",
   "execution_count": null,
   "metadata": {},
   "outputs": [],
   "source": [
    "# An alternative way, for this case, is to directly parse 2/T file\n",
    "\n",
    "# Import parsedFile class as sf\n",
    "from PyFoam.RunDictionary.ParsedParameterFile import ParsedParameterFile as sf\n",
    "\n",
    "# The 2/T file representation\n",
    "T = sf(case.sol.latestDir()+'/T')\n",
    "\n",
    "# What content the file has?\n",
    "print(\"40/T content: %s\\n\" % T.content.keys())\n",
    "\n",
    "# Extract the list of values\n",
    "print(\"T at cell center: %s\" % T.content['internalField'].value())"
   ]
  },
  {
   "cell_type": "code",
   "execution_count": null,
   "metadata": {},
   "outputs": [],
   "source": [
    "# Plot T values at cell centers\n",
    "plt.plot(T.content['internalField'].value())\n",
    "plt.xlabel(\"Cell ID\")\n",
    "plt.ylabel(\"T\")"
   ]
  }
 ],
 "metadata": {
  "kernelspec": {
   "display_name": "Python 3",
   "language": "python",
   "name": "python3"
  },
  "language_info": {
   "codemirror_mode": {
    "name": "ipython",
    "version": 3
   },
   "file_extension": ".py",
   "mimetype": "text/x-python",
   "name": "python",
   "nbconvert_exporter": "python",
   "pygments_lexer": "ipython3",
   "version": "3.6.9"
  },
  "pyFoam": {
   "createdBy": "pyFoam",
   "createdTime": "Thu Oct 24 12:59:51 2019",
   "description": "Created by pyFoamIPythonNotebook.py",
   "modificationTime": "Thu Oct 24 12:59:51 2019",
   "storedData": {}
  }
 },
 "nbformat": 4,
 "nbformat_minor": 1
}
